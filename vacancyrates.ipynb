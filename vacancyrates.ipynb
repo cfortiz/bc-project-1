{
 "cells": [
  {
   "cell_type": "code",
   "execution_count": 6,
   "metadata": {},
   "outputs": [],
   "source": [
    "import json\n",
    "\n",
    "import requests\n",
    "import pandas as pd\n",
    "from pathlib import Path\n",
    "\n",
    "import acs\n",
    "from censuscodes import county_lookup"
   ]
  },
  {
   "cell_type": "code",
   "execution_count": 7,
   "metadata": {},
   "outputs": [],
   "source": [
    "# Set up the project resources directory, and the vacancy rates output directory\n",
    "project_resources_dir = \"resources\"\n",
    "project_resources_path = Path(project_resources_dir)\n",
    "\n",
    "# Set to True to force download from the Census Bureau's API\n",
    "force_download = False\n",
    "# include_adjacent_counties = True  # Set to false to limit to NYC boroughs only\n",
    "include_adjacent_counties = False"
   ]
  },
  {
   "cell_type": "code",
   "execution_count": 8,
   "metadata": {},
   "outputs": [],
   "source": [
    "# Range of years for the project\n",
    "project_years = list(range(2012, 2023))\n",
    "\n",
    "# NYC borough counties\n",
    "nyc_counties = list(map(county_lookup.by.full_name.get, [\n",
    "    \"Bronx County, New York\",\n",
    "    \"Kings County, New York\",  # Brooklyn\n",
    "    \"New York County, New York\",  # Manhattan\n",
    "    \"Queens County, New York\",\n",
    "    \"Richmond County, New York\",  # Staten Island\n",
    "]))\n",
    "\n",
    "# Counties adjacent to NYC\n",
    "adjacent_counties = list(map(county_lookup.by.full_name.get, [ \n",
    "    \"Westchester County, New York\",\n",
    "    \"Rockland County, New York\",\n",
    "    \"Nassau County, New York\",\n",
    "    \"Bergen County, New Jersey\",\n",
    "    \"Essex County, New Jersey\",\n",
    "    \"Hudson County, New Jersey\",\n",
    "    \"Middlesex County, New Jersey\",\n",
    "    \"Union County, New Jersey\",\n",
    "    \"Fairfield County, Connecticut\",\n",
    "]))\n",
    "\n",
    "# All counties for the project\n",
    "project_counties = nyc_counties\n",
    "if include_adjacent_counties:\n",
    "    project_counties += adjacent_counties"
   ]
  },
  {
   "cell_type": "code",
   "execution_count": 9,
   "metadata": {},
   "outputs": [
    {
     "name": "stdout",
     "output_type": "stream",
     "text": [
      "Project Years: [2012, 2013, 2014, 2015, 2016, 2017, 2018, 2019, 2020, 2021, 2022]\n",
      "Project Counties:\n",
      "- Bronx County, New York (state_fips=36, county_fips=005)\n",
      "- Kings County, New York (state_fips=36, county_fips=047)\n",
      "- New York County, New York (state_fips=36, county_fips=061)\n",
      "- Queens County, New York (state_fips=36, county_fips=081)\n",
      "- Richmond County, New York (state_fips=36, county_fips=085)\n"
     ]
    }
   ],
   "source": [
    "# Display year and county information for all project years and counties\n",
    "print(f\"Project Years: {project_years}\")\n",
    "print(\"Project Counties:\")\n",
    "for county in project_counties:\n",
    "    print(f\"- {county.full_name} (\"\n",
    "          f\"state_fips={county.state_fips}, \"\n",
    "          f\"county_fips={county.fips})\")"
   ]
  },
  {
   "cell_type": "code",
   "execution_count": 10,
   "metadata": {},
   "outputs": [
    {
     "name": "stdout",
     "output_type": "stream",
     "text": [
      "Year: 2012, County: Bronx County, New York, GET: https://api.census.gov/data/2012/acs/acs1/profile?get=DP04_0001E%2CDP04_0003E&for=county%3A005&in=state%3A36&key=API_KEY_REDACTED\n",
      "Year: 2012, County: Kings County, New York, GET: https://api.census.gov/data/2012/acs/acs1/profile?get=DP04_0001E%2CDP04_0003E&for=county%3A047&in=state%3A36&key=API_KEY_REDACTED\n",
      "Year: 2012, County: New York County, New York, GET: https://api.census.gov/data/2012/acs/acs1/profile?get=DP04_0001E%2CDP04_0003E&for=county%3A061&in=state%3A36&key=API_KEY_REDACTED\n",
      "Year: 2012, County: Queens County, New York, GET: https://api.census.gov/data/2012/acs/acs1/profile?get=DP04_0001E%2CDP04_0003E&for=county%3A081&in=state%3A36&key=API_KEY_REDACTED\n",
      "Year: 2012, County: Richmond County, New York, GET: https://api.census.gov/data/2012/acs/acs1/profile?get=DP04_0001E%2CDP04_0003E&for=county%3A085&in=state%3A36&key=API_KEY_REDACTED\n",
      "Year: 2013, County: Bronx County, New York, GET: https://api.census.gov/data/2013/acs/acs1/profile?get=DP04_0001E%2CDP04_0003E&for=county%3A005&in=state%3A36&key=API_KEY_REDACTED\n",
      "Year: 2013, County: Kings County, New York, GET: https://api.census.gov/data/2013/acs/acs1/profile?get=DP04_0001E%2CDP04_0003E&for=county%3A047&in=state%3A36&key=API_KEY_REDACTED\n",
      "Year: 2013, County: New York County, New York, GET: https://api.census.gov/data/2013/acs/acs1/profile?get=DP04_0001E%2CDP04_0003E&for=county%3A061&in=state%3A36&key=API_KEY_REDACTED\n",
      "Year: 2013, County: Queens County, New York, GET: https://api.census.gov/data/2013/acs/acs1/profile?get=DP04_0001E%2CDP04_0003E&for=county%3A081&in=state%3A36&key=API_KEY_REDACTED\n",
      "Year: 2013, County: Richmond County, New York, GET: https://api.census.gov/data/2013/acs/acs1/profile?get=DP04_0001E%2CDP04_0003E&for=county%3A085&in=state%3A36&key=API_KEY_REDACTED\n",
      "Year: 2014, County: Bronx County, New York, GET: https://api.census.gov/data/2014/acs/acs1/profile?get=DP04_0001E%2CDP04_0003E&for=county%3A005&in=state%3A36&key=API_KEY_REDACTED\n",
      "Year: 2014, County: Kings County, New York, GET: https://api.census.gov/data/2014/acs/acs1/profile?get=DP04_0001E%2CDP04_0003E&for=county%3A047&in=state%3A36&key=API_KEY_REDACTED\n",
      "Year: 2014, County: New York County, New York, GET: https://api.census.gov/data/2014/acs/acs1/profile?get=DP04_0001E%2CDP04_0003E&for=county%3A061&in=state%3A36&key=API_KEY_REDACTED\n",
      "Year: 2014, County: Queens County, New York, GET: https://api.census.gov/data/2014/acs/acs1/profile?get=DP04_0001E%2CDP04_0003E&for=county%3A081&in=state%3A36&key=API_KEY_REDACTED\n",
      "Year: 2014, County: Richmond County, New York, GET: https://api.census.gov/data/2014/acs/acs1/profile?get=DP04_0001E%2CDP04_0003E&for=county%3A085&in=state%3A36&key=API_KEY_REDACTED\n",
      "Year: 2015, County: Bronx County, New York, GET: https://api.census.gov/data/2015/acs/acs1/profile?get=DP04_0001E%2CDP04_0003E&for=county%3A005&in=state%3A36&key=API_KEY_REDACTED\n",
      "Year: 2015, County: Kings County, New York, GET: https://api.census.gov/data/2015/acs/acs1/profile?get=DP04_0001E%2CDP04_0003E&for=county%3A047&in=state%3A36&key=API_KEY_REDACTED\n",
      "Year: 2015, County: New York County, New York, GET: https://api.census.gov/data/2015/acs/acs1/profile?get=DP04_0001E%2CDP04_0003E&for=county%3A061&in=state%3A36&key=API_KEY_REDACTED\n",
      "Year: 2015, County: Queens County, New York, GET: https://api.census.gov/data/2015/acs/acs1/profile?get=DP04_0001E%2CDP04_0003E&for=county%3A081&in=state%3A36&key=API_KEY_REDACTED\n",
      "Year: 2015, County: Richmond County, New York, GET: https://api.census.gov/data/2015/acs/acs1/profile?get=DP04_0001E%2CDP04_0003E&for=county%3A085&in=state%3A36&key=API_KEY_REDACTED\n",
      "Year: 2016, County: Bronx County, New York, GET: https://api.census.gov/data/2016/acs/acs1/profile?get=DP04_0001E%2CDP04_0003E&for=county%3A005&in=state%3A36&key=API_KEY_REDACTED\n",
      "Year: 2016, County: Kings County, New York, GET: https://api.census.gov/data/2016/acs/acs1/profile?get=DP04_0001E%2CDP04_0003E&for=county%3A047&in=state%3A36&key=API_KEY_REDACTED\n",
      "Year: 2016, County: New York County, New York, GET: https://api.census.gov/data/2016/acs/acs1/profile?get=DP04_0001E%2CDP04_0003E&for=county%3A061&in=state%3A36&key=API_KEY_REDACTED\n",
      "Year: 2016, County: Queens County, New York, GET: https://api.census.gov/data/2016/acs/acs1/profile?get=DP04_0001E%2CDP04_0003E&for=county%3A081&in=state%3A36&key=API_KEY_REDACTED\n",
      "Year: 2016, County: Richmond County, New York, GET: https://api.census.gov/data/2016/acs/acs1/profile?get=DP04_0001E%2CDP04_0003E&for=county%3A085&in=state%3A36&key=API_KEY_REDACTED\n",
      "Year: 2017, County: Bronx County, New York, GET: https://api.census.gov/data/2017/acs/acs1/profile?get=DP04_0001E%2CDP04_0003E&for=county%3A005&in=state%3A36&key=API_KEY_REDACTED\n",
      "Year: 2017, County: Kings County, New York, GET: https://api.census.gov/data/2017/acs/acs1/profile?get=DP04_0001E%2CDP04_0003E&for=county%3A047&in=state%3A36&key=API_KEY_REDACTED\n",
      "Year: 2017, County: New York County, New York, GET: https://api.census.gov/data/2017/acs/acs1/profile?get=DP04_0001E%2CDP04_0003E&for=county%3A061&in=state%3A36&key=API_KEY_REDACTED\n",
      "Year: 2017, County: Queens County, New York, GET: https://api.census.gov/data/2017/acs/acs1/profile?get=DP04_0001E%2CDP04_0003E&for=county%3A081&in=state%3A36&key=API_KEY_REDACTED\n",
      "Year: 2017, County: Richmond County, New York, GET: https://api.census.gov/data/2017/acs/acs1/profile?get=DP04_0001E%2CDP04_0003E&for=county%3A085&in=state%3A36&key=API_KEY_REDACTED\n",
      "Year: 2018, County: Bronx County, New York, GET: https://api.census.gov/data/2018/acs/acs1/profile?get=DP04_0001E%2CDP04_0003E&for=county%3A005&in=state%3A36&key=API_KEY_REDACTED\n",
      "Year: 2018, County: Kings County, New York, GET: https://api.census.gov/data/2018/acs/acs1/profile?get=DP04_0001E%2CDP04_0003E&for=county%3A047&in=state%3A36&key=API_KEY_REDACTED\n",
      "Year: 2018, County: New York County, New York, GET: https://api.census.gov/data/2018/acs/acs1/profile?get=DP04_0001E%2CDP04_0003E&for=county%3A061&in=state%3A36&key=API_KEY_REDACTED\n",
      "Year: 2018, County: Queens County, New York, GET: https://api.census.gov/data/2018/acs/acs1/profile?get=DP04_0001E%2CDP04_0003E&for=county%3A081&in=state%3A36&key=API_KEY_REDACTED\n",
      "Year: 2018, County: Richmond County, New York, GET: https://api.census.gov/data/2018/acs/acs1/profile?get=DP04_0001E%2CDP04_0003E&for=county%3A085&in=state%3A36&key=API_KEY_REDACTED\n",
      "Year: 2019, County: Bronx County, New York, GET: https://api.census.gov/data/2019/acs/acs1/profile?get=DP04_0001E%2CDP04_0003E&for=county%3A005&in=state%3A36&key=API_KEY_REDACTED\n",
      "Year: 2019, County: Kings County, New York, GET: https://api.census.gov/data/2019/acs/acs1/profile?get=DP04_0001E%2CDP04_0003E&for=county%3A047&in=state%3A36&key=API_KEY_REDACTED\n",
      "Year: 2019, County: New York County, New York, GET: https://api.census.gov/data/2019/acs/acs1/profile?get=DP04_0001E%2CDP04_0003E&for=county%3A061&in=state%3A36&key=API_KEY_REDACTED\n",
      "Year: 2019, County: Queens County, New York, GET: https://api.census.gov/data/2019/acs/acs1/profile?get=DP04_0001E%2CDP04_0003E&for=county%3A081&in=state%3A36&key=API_KEY_REDACTED\n",
      "Year: 2019, County: Richmond County, New York, GET: https://api.census.gov/data/2019/acs/acs1/profile?get=DP04_0001E%2CDP04_0003E&for=county%3A085&in=state%3A36&key=API_KEY_REDACTED\n",
      "Year: 2020, County: Bronx County, New York, GET: https://api.census.gov/data/2020/dec/pl?get=H1_001N%2CH1_003N&for=county%3A005&in=state%3A36&key=API_KEY_REDACTED\n",
      "Year: 2020, County: Kings County, New York, GET: https://api.census.gov/data/2020/dec/pl?get=H1_001N%2CH1_003N&for=county%3A047&in=state%3A36&key=API_KEY_REDACTED\n",
      "Year: 2020, County: New York County, New York, GET: https://api.census.gov/data/2020/dec/pl?get=H1_001N%2CH1_003N&for=county%3A061&in=state%3A36&key=API_KEY_REDACTED\n",
      "Year: 2020, County: Queens County, New York, GET: https://api.census.gov/data/2020/dec/pl?get=H1_001N%2CH1_003N&for=county%3A081&in=state%3A36&key=API_KEY_REDACTED\n",
      "Year: 2020, County: Richmond County, New York, GET: https://api.census.gov/data/2020/dec/pl?get=H1_001N%2CH1_003N&for=county%3A085&in=state%3A36&key=API_KEY_REDACTED\n",
      "Year: 2021, County: Bronx County, New York, GET: https://api.census.gov/data/2021/acs/acs1/profile?get=DP04_0001E%2CDP04_0003E&for=county%3A005&in=state%3A36&key=API_KEY_REDACTED\n",
      "Year: 2021, County: Kings County, New York, GET: https://api.census.gov/data/2021/acs/acs1/profile?get=DP04_0001E%2CDP04_0003E&for=county%3A047&in=state%3A36&key=API_KEY_REDACTED\n",
      "Year: 2021, County: New York County, New York, GET: https://api.census.gov/data/2021/acs/acs1/profile?get=DP04_0001E%2CDP04_0003E&for=county%3A061&in=state%3A36&key=API_KEY_REDACTED\n",
      "Year: 2021, County: Queens County, New York, GET: https://api.census.gov/data/2021/acs/acs1/profile?get=DP04_0001E%2CDP04_0003E&for=county%3A081&in=state%3A36&key=API_KEY_REDACTED\n",
      "Year: 2021, County: Richmond County, New York, GET: https://api.census.gov/data/2021/acs/acs1/profile?get=DP04_0001E%2CDP04_0003E&for=county%3A085&in=state%3A36&key=API_KEY_REDACTED\n",
      "Year: 2022, County: Bronx County, New York, GET: https://api.census.gov/data/2022/acs/acs1/profile?get=DP04_0001E%2CDP04_0003E&for=county%3A005&in=state%3A36&key=API_KEY_REDACTED\n",
      "Year: 2022, County: Kings County, New York, GET: https://api.census.gov/data/2022/acs/acs1/profile?get=DP04_0001E%2CDP04_0003E&for=county%3A047&in=state%3A36&key=API_KEY_REDACTED\n",
      "Year: 2022, County: New York County, New York, GET: https://api.census.gov/data/2022/acs/acs1/profile?get=DP04_0001E%2CDP04_0003E&for=county%3A061&in=state%3A36&key=API_KEY_REDACTED\n",
      "Year: 2022, County: Queens County, New York, GET: https://api.census.gov/data/2022/acs/acs1/profile?get=DP04_0001E%2CDP04_0003E&for=county%3A081&in=state%3A36&key=API_KEY_REDACTED\n",
      "Year: 2022, County: Richmond County, New York, GET: https://api.census.gov/data/2022/acs/acs1/profile?get=DP04_0001E%2CDP04_0003E&for=county%3A085&in=state%3A36&key=API_KEY_REDACTED\n"
     ]
    },
    {
     "ename": "NameError",
     "evalue": "name 'merged_df' is not defined",
     "output_type": "error",
     "traceback": [
      "\u001b[1;31m---------------------------------------------------------------------------\u001b[0m",
      "\u001b[1;31mNameError\u001b[0m                                 Traceback (most recent call last)",
      "Cell \u001b[1;32mIn[10], line 16\u001b[0m\n\u001b[0;32m     14\u001b[0m \u001b[38;5;66;03m# ... merge the data, rename and reorder the columns, ...\u001b[39;00m\n\u001b[0;32m     15\u001b[0m df \u001b[38;5;241m=\u001b[39m pd\u001b[38;5;241m.\u001b[39mconcat(dfs)\u001b[38;5;241m.\u001b[39mreset_index(drop\u001b[38;5;241m=\u001b[39m\u001b[38;5;28;01mTrue\u001b[39;00m)\n\u001b[1;32m---> 16\u001b[0m df \u001b[38;5;241m=\u001b[39m \u001b[43mmerged_df\u001b[49m[[\u001b[38;5;124m\"\u001b[39m\u001b[38;5;124myear\u001b[39m\u001b[38;5;124m\"\u001b[39m, \u001b[38;5;124m\"\u001b[39m\u001b[38;5;124mstate\u001b[39m\u001b[38;5;124m\"\u001b[39m, \u001b[38;5;124m\"\u001b[39m\u001b[38;5;124mcounty\u001b[39m\u001b[38;5;124m\"\u001b[39m, \u001b[38;5;124m\"\u001b[39m\u001b[38;5;124mvacancy_rate\u001b[39m\u001b[38;5;124m\"\u001b[39m]]\n\u001b[0;32m     18\u001b[0m \u001b[38;5;66;03m# ... and save the data to a csv file.  Saving the CSV file allows us to\u001b[39;00m\n\u001b[0;32m     19\u001b[0m \u001b[38;5;66;03m# avoid making time-consuming API requests to the Census Bureau in the\u001b[39;00m\n\u001b[0;32m     20\u001b[0m \u001b[38;5;66;03m# future, as well as merging, column renaming and reordering, etc.\u001b[39;00m\n\u001b[0;32m     21\u001b[0m df\u001b[38;5;241m.\u001b[39mto_csv(csv_path, index\u001b[38;5;241m=\u001b[39m\u001b[38;5;28;01mFalse\u001b[39;00m)\n",
      "\u001b[1;31mNameError\u001b[0m: name 'merged_df' is not defined"
     ]
    }
   ],
   "source": [
    "# If a csv file exists and we don't want to force a download, load the data\n",
    "# from the csv file and return it.\n",
    "csv_path = Path(project_resources_dir) / \"vacancy_rates.csv\"\n",
    "if csv_path.exists() and not force_download:\n",
    "    df = pd.read_csv(csv_path)\n",
    "else:\n",
    "    # Otherwise, iterate over the years and counties to get the data, ...\n",
    "    dfs = []\n",
    "    for year in project_years:\n",
    "        for county in project_counties:\n",
    "            df = acs.get_vacancy_rate(year, county)\n",
    "            dfs.append(df)\n",
    "\n",
    "    # ... merge the data, rename and reorder the columns, ...\n",
    "    df = pd.concat(dfs).reset_index(drop=True)\n",
    "    df = df[[\"year\", \"state\", \"county\", \"vacancy_rate\"]]\n",
    "    \n",
    "    # ... and save the data to a csv file.  Saving the CSV file allows us to\n",
    "    # avoid making time-consuming API requests to the Census Bureau in the\n",
    "    # future, as well as merging, column renaming and reordering, etc.\n",
    "    df.to_csv(csv_path, index=False)\n",
    "\n",
    "# Display the first few rows of the merged data frame to review the data\n",
    "df.head()"
   ]
  },
  {
   "cell_type": "code",
   "execution_count": null,
   "metadata": {},
   "outputs": [],
   "source": []
  }
 ],
 "metadata": {
  "kernelspec": {
   "display_name": "bootcamp",
   "language": "python",
   "name": "python3"
  },
  "language_info": {
   "codemirror_mode": {
    "name": "ipython",
    "version": 3
   },
   "file_extension": ".py",
   "mimetype": "text/x-python",
   "name": "python",
   "nbconvert_exporter": "python",
   "pygments_lexer": "ipython3",
   "version": "3.12.4"
  }
 },
 "nbformat": 4,
 "nbformat_minor": 2
}
