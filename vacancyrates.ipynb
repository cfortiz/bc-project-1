{
 "cells": [
  {
   "cell_type": "code",
   "execution_count": 42,
   "metadata": {},
   "outputs": [],
   "source": [
    "import json\n",
    "\n",
    "import requests\n",
    "import pandas as pd\n",
    "from pathlib import Path\n",
    "\n",
    "import apifacade as api\n",
    "from censuscodes import county_lookup"
   ]
  },
  {
   "cell_type": "code",
   "execution_count": 43,
   "metadata": {},
   "outputs": [],
   "source": [
    "# Set up the project resources directory, and the vacancy rates output directory\n",
    "project_resources_dir = \"resources\"\n",
    "project_resources_path = Path(project_resources_dir)\n",
    "\n",
    "# Set to True to force download from the Census Bureau's API\n",
    "force_download = False"
   ]
  },
  {
   "cell_type": "code",
   "execution_count": 44,
   "metadata": {},
   "outputs": [],
   "source": [
    "# Range of years for the project\n",
    "project_years = list(range(2012, 2023))\n",
    "\n",
    "# NYC borough counties\n",
    "project_counties = list(map(county_lookup.by.full_name.get, [\n",
    "    \"Bronx County, New York\",\n",
    "    \"Kings County, New York\",  # Brooklyn\n",
    "    \"New York County, New York\",  # Manhattan\n",
    "    \"Queens County, New York\",\n",
    "    \"Richmond County, New York\",  # Staten Island\n",
    "]))"
   ]
  },
  {
   "cell_type": "code",
   "execution_count": 45,
   "metadata": {},
   "outputs": [
    {
     "name": "stdout",
     "output_type": "stream",
     "text": [
      "Project Years: [2012, 2013, 2014, 2015, 2016, 2017, 2018, 2019, 2020, 2021, 2022]\n",
      "Project Counties:\n",
      "- Bronx County, New York (state_fips=36, county_fips=005)\n",
      "- Kings County, New York (state_fips=36, county_fips=047)\n",
      "- New York County, New York (state_fips=36, county_fips=061)\n",
      "- Queens County, New York (state_fips=36, county_fips=081)\n",
      "- Richmond County, New York (state_fips=36, county_fips=085)\n"
     ]
    }
   ],
   "source": [
    "# Display year and county information for all project years and counties\n",
    "print(f\"Project Years: {project_years}\")\n",
    "print(\"Project Counties:\")\n",
    "for county in project_counties:\n",
    "    print(f\"- {county.full_name} (\"\n",
    "          f\"state_fips={county.state_fips}, \"\n",
    "          f\"county_fips={county.fips})\")"
   ]
  },
  {
   "cell_type": "code",
   "execution_count": 46,
   "metadata": {},
   "outputs": [],
   "source": [
    "# If a csv file exists and we don't want to force a download, load the data\n",
    "# from the csv file and return it.\n",
    "csv_path = Path(project_resources_dir) / \"vacancy_rates.csv\"\n",
    "if csv_path.exists() and not force_download:\n",
    "    df = pd.read_csv(csv_path)\n",
    "else:\n",
    "    # Otherwise, iterate over the years and counties to get the data, ...\n",
    "    dfs = []\n",
    "    for year in project_years:\n",
    "        for county in project_counties:\n",
    "            try:\n",
    "                df = api.get_vacancy_rate(year, county)\n",
    "                dfs.append(df)\n",
    "            except RuntimeError as e:\n",
    "                print(f\"Error: {e}\")\n",
    "                continue\n",
    "\n",
    "    # ... merge the data, rename and reorder the columns, ...\n",
    "    df = pd.concat(dfs).reset_index(drop=True)\n",
    "    df = df[[\"year\", \"state_fips\", \"county_fips\",\n",
    "             \"vacant_units\", \"total_units\",\n",
    "             \"vacancy_rate\"]]\n",
    "    \n",
    "    # ... reformat the state and county FIPS codes, ...\n",
    "    df[\"state_fips\"] = df[\"state_fips\"].astype(str).str.zfill(2)\n",
    "    df[\"county_fips\"] = df[\"county_fips\"].astype(str).str.zfill(3)\n",
    "    \n",
    "    # ... and save the data to a csv file.  Saving the CSV file allows us to\n",
    "    # avoid making time-consuming API requests to the Census Bureau in the\n",
    "    # future, as well as merging, column renaming and reordering, etc.\n",
    "    df.to_csv(csv_path, index=False)"
   ]
  },
  {
   "cell_type": "code",
   "execution_count": 47,
   "metadata": {},
   "outputs": [
    {
     "name": "stdout",
     "output_type": "stream",
     "text": [
      "   year  state_fips  county_fips  vacant_units  total_units  vacancy_rate\n",
      "0  2012          36            5         38073       514051      7.406464\n",
      "1  2012          36           47         83781      1003114      8.352092\n",
      "2  2012          36           61        103804       850490     12.205199\n",
      "3  2012          36           81         59798       840147      7.117564\n",
      "4  2012          36           85         14011       177479      7.894455\n",
      "    year  state_fips  county_fips  vacant_units  total_units  vacancy_rate\n",
      "50  2022          36            5         24950       557985      4.471446\n",
      "51  2022          36           47         75068      1101429      6.815510\n",
      "52  2022          36           61        119395       923239     12.932188\n",
      "53  2022          36           81         72060       911913      7.902070\n",
      "54  2022          36           85         14551       184497      7.886849\n"
     ]
    }
   ],
   "source": [
    "# Display the head and tail of the merged data frame to review the data.\n",
    "print(df.head())\n",
    "print(df.tail())"
   ]
  },
  {
   "cell_type": "code",
   "execution_count": null,
   "metadata": {},
   "outputs": [],
   "source": []
  }
 ],
 "metadata": {
  "kernelspec": {
   "display_name": "bootcamp",
   "language": "python",
   "name": "python3"
  },
  "language_info": {
   "codemirror_mode": {
    "name": "ipython",
    "version": 3
   },
   "file_extension": ".py",
   "mimetype": "text/x-python",
   "name": "python",
   "nbconvert_exporter": "python",
   "pygments_lexer": "ipython3",
   "version": "3.12.4"
  }
 },
 "nbformat": 4,
 "nbformat_minor": 2
}
