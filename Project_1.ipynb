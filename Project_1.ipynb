{
 "cells": [
  {
   "cell_type": "code",
   "execution_count": 2,
   "id": "c83cdccc-c8f0-4c5f-8be8-ba85c47e3ebb",
   "metadata": {},
   "outputs": [],
   "source": [
    "# Dependencies \n",
    "import json\n",
    "import requests\n",
    "import pandas as pd\n",
    "from api_key import census_api_key"
   ]
  },
  {
   "cell_type": "code",
   "execution_count": 5,
   "id": "4c556dc4-1151-4a4b-b822-0b65fe7537f2",
   "metadata": {},
   "outputs": [
    {
     "name": "stdout",
     "output_type": "stream",
     "text": [
      "https://api.census.gov/data/2022/acs/acs1?get=group(B07013)&ucgid=0500000US34003,0500000US34017,0500000US36005,0500000US36047,0500000US36059,0500000US36061,0500000US36081,0500000US36085,0500000US36087,0500000US36119\n"
     ]
    }
   ],
   "source": [
    "# Save api_key information\n",
    "\n",
    "url = \"https://api.census.gov/data/2022/acs/acs1?get=group(B07013)&ucgid=0500000US34003,0500000US34017,0500000US36005,0500000US36047,0500000US36059,0500000US36061,0500000US36081,0500000US36085,0500000US36087,0500000US36119\"\n",
    "year = \"2019\"\n",
    "\n",
    "query_url = f\"{url}&key={census_api_key}\"\n",
    "query_url = f\"{url}\"\n",
    "response=requests.get(query_url)\n",
    "census_data = response.json()\n",
    "print(response.url)\n"
   ]
  },
  {
   "cell_type": "code",
   "execution_count": null,
   "id": "f663480a-07cf-4259-b73b-c6819475958c",
   "metadata": {},
   "outputs": [],
   "source": []
  },
  {
   "cell_type": "code",
   "execution_count": null,
   "id": "5dfd5052-ab0a-4f94-ab48-1d6ee29874a3",
   "metadata": {},
   "outputs": [],
   "source": []
  }
 ],
 "metadata": {
  "kernelspec": {
   "display_name": "Python 3 (ipykernel)",
   "language": "python",
   "name": "python3"
  },
  "language_info": {
   "codemirror_mode": {
    "name": "ipython",
    "version": 3
   },
   "file_extension": ".py",
   "mimetype": "text/x-python",
   "name": "python",
   "nbconvert_exporter": "python",
   "pygments_lexer": "ipython3",
   "version": "3.12.4"
  }
 },
 "nbformat": 4,
 "nbformat_minor": 5
}
